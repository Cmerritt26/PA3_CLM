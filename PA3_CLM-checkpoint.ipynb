{
 "cells": [
  {
   "cell_type": "markdown",
   "id": "77549ad4",
   "metadata": {},
   "source": [
    "# PA 3\n",
    "## Corey Merritt\n",
    "### Python \n",
    "#### Fall 2023"
   ]
  },
  {
   "cell_type": "code",
   "execution_count": 3,
   "id": "501ec781",
   "metadata": {},
   "outputs": [
    {
     "name": "stdout",
     "output_type": "stream",
     "text": [
      "The new list is: ['5', '20', '30', '40', '50', '60']\n"
     ]
    }
   ],
   "source": [
    "numbers=['10','20','30','40','50']\n",
    "numbers.append('60')\n",
    "numbers.insert(0,'5')\n",
    "del numbers [1]\n",
    "print(f\"The new list is: {numbers}\")\n"
   ]
  },
  {
   "cell_type": "code",
   "execution_count": 9,
   "id": "96aaa8a6",
   "metadata": {},
   "outputs": [
    {
     "data": {
      "text/plain": [
       "'Wednesday'"
      ]
     },
     "execution_count": 9,
     "metadata": {},
     "output_type": "execute_result"
    }
   ],
   "source": [
    "Days_tuple=(\"Monday\",\"Tuesday\",\"Wednesday\",\"Thursday\",\"Friday\",\"Saturday\",\"Sunday\")\n",
    "Days_tuple[2]\n",
    "#Tuples have no attribute to replace Days_tuple[1]=(\"Funday\")"
   ]
  },
  {
   "cell_type": "code",
   "execution_count": 19,
   "id": "f010a29a",
   "metadata": {},
   "outputs": [
    {
     "name": "stdout",
     "output_type": "stream",
     "text": [
      "['a', 'b', 'c', 'd', 'e', 'f', 'g', 'h', 'i', 'j', 'k', 'l', 'm', 'n', 'o', 'p', 'q', 'r', 's', 't', 'u', 'v', 'w', 'x', 'y', 'z']\n"
     ]
    }
   ],
   "source": [
    "letters=[chr(ord('a')+i)for i in range(26)]\n",
    "print(letters)"
   ]
  },
  {
   "cell_type": "code",
   "execution_count": 21,
   "id": "599bf53c",
   "metadata": {},
   "outputs": [
    {
     "name": "stdout",
     "output_type": "stream",
     "text": [
      "['p', 'o', 'n', 'm', 'l', 'k']\n"
     ]
    }
   ],
   "source": [
    "letters=[chr(ord('a')+i)for i in range(26)]\n",
    "sublist=letters[15:9:-1]\n",
    "print(sublist)"
   ]
  },
  {
   "cell_type": "code",
   "execution_count": 23,
   "id": "bf0c74a4",
   "metadata": {},
   "outputs": [
    {
     "name": "stdout",
     "output_type": "stream",
     "text": [
      "['k', 'l', 'm', 'n', 'o', 'p']\n"
     ]
    }
   ],
   "source": [
    "letters=[chr(ord('a')+i)for i in range(26)]\n",
    "sublist=letters[10:16:1]\n",
    "print(sublist)"
   ]
  },
  {
   "cell_type": "code",
   "execution_count": 34,
   "id": "81281e81",
   "metadata": {},
   "outputs": [
    {
     "name": "stdout",
     "output_type": "stream",
     "text": [
      "first name: Corey\n",
      "age: 20\n",
      "Last name: Merritt\n"
     ]
    }
   ],
   "source": [
    "student=(\"Corey\", 20, \"Merritt\")\n",
    "first, Age, Last=student\n",
    "print(\"first name:\", first)\n",
    "print(\"age:\", Age)\n",
    "print(\"Last name:\", Last)"
   ]
  },
  {
   "cell_type": "code",
   "execution_count": 2,
   "id": "a3a4dc92",
   "metadata": {},
   "outputs": [
    {
     "name": "stdout",
     "output_type": "stream",
     "text": [
      "['food', 'soap', 'shampoo', 'toothpaste', 'water']\n",
      "['food', 'soap', 'papertowels', 'toothpaste', 'water']\n",
      "['food', 'papertowels', 'soap', 'toothpaste', 'water']\n"
     ]
    }
   ],
   "source": [
    "shopping_list=[]\n",
    "shopping_list.append('food')\n",
    "shopping_list.append('soap')\n",
    "shopping_list.append('shampoo')\n",
    "shopping_list.append('toothpaste')\n",
    "shopping_list.append('water')\n",
    "print(shopping_list)\n",
    "shopping_list.insert(2,'papertowels')\n",
    "shopping_list.remove('shampoo')\n",
    "print(shopping_list)\n",
    "shopping_list.sort()\n",
    "print(shopping_list)"
   ]
  },
  {
   "cell_type": "code",
   "execution_count": null,
   "id": "edf2f766",
   "metadata": {},
   "outputs": [],
   "source": []
  }
 ],
 "metadata": {
  "kernelspec": {
   "display_name": "Python 3 (ipykernel)",
   "language": "python",
   "name": "python3"
  },
  "language_info": {
   "codemirror_mode": {
    "name": "ipython",
    "version": 3
   },
   "file_extension": ".py",
   "mimetype": "text/x-python",
   "name": "python",
   "nbconvert_exporter": "python",
   "pygments_lexer": "ipython3",
   "version": "3.11.4"
  }
 },
 "nbformat": 4,
 "nbformat_minor": 5
}
